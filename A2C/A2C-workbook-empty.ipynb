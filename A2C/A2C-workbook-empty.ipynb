{
 "cells": [
  {
   "cell_type": "code",
   "execution_count": 1,
   "metadata": {},
   "outputs": [],
   "source": [
    "import gymnasium as gym\n",
    "\n",
    "import torch \n",
    "import torch.nn as nn\n",
    "import torch.nn.functional as F\n",
    "import torch.optim as optim\n",
    "\n",
    "import numpy as np\n",
    "import matplotlib.pyplot as plt\n",
    "from IPython.display import clear_output\n",
    "from time import sleep\n",
    "\n",
    "from tqdm.notebook import tqdm\n",
    "from collections import namedtuple\n",
    "from collections import deque\n",
    "import random"
   ]
  },
  {
   "cell_type": "code",
   "execution_count": 2,
   "metadata": {},
   "outputs": [],
   "source": [
    "# Define the (state) value network\n",
    "class V_net(________):\n",
    "    # Initialise the network\n",
    "    def __init__(self, env):\n",
    "        # Call the parent class\n",
    "        super(V_net, self).__init__()\n",
    "        # Set the input and output size\n",
    "        self.obs_dim = env.observation_space.shape[0]\n",
    "        # Define the layers of the network\n",
    "        self.layers = nn.Sequential(\n",
    "            \n",
    "        )\n",
    "    \n",
    "    def forward(self, x):\n",
    "        "
   ]
  },
  {
   "cell_type": "code",
   "execution_count": 3,
   "metadata": {},
   "outputs": [],
   "source": [
    "# Define the policy network\n",
    "class policy_net(_______):\n",
    "    # Initialise the network\n",
    "    def __init__(self, env):\n",
    "        # Call the parent class\n",
    "        super(policy_net, self).__init__()\n",
    "        # Set the input and output size\n",
    "        self.obs_dim = env.observation_space.shape[0]\n",
    "        self.n_actions = env.action_space.n\n",
    "        # Define the layers of the network\n",
    "        self.layers = nn.Sequential(\n",
    "            \n",
    "        )\n",
    "    \n",
    "    def _______(self, x):\n",
    "        return self.layers(x)"
   ]
  },
  {
   "cell_type": "code",
   "execution_count": 4,
   "metadata": {},
   "outputs": [],
   "source": [
    "# Define the interact function\n",
    "def interact(agent, env, steps):\n",
    "    # Initialise the data storage \n",
    "    batch = []\n",
    "    # Initialise the returns list\n",
    "    return_list = []\n",
    "    # Initialize the state\n",
    "    state, _ = env.reset()\n",
    "    # Initialize the episode return\n",
    "    episode_return = 0\n",
    "    for _ in range(steps):    \n",
    "        # Create a dictionary to store the datapoint\n",
    "        data = {\"state\":state}\n",
    "        # Choose the action \n",
    "        action = agent.sample_action(state)\n",
    "        data[\"action\"] = action\n",
    "        # Perform the action in the environment\n",
    "        next_state, reward, terminated, truncated, _ = env.step(action)\n",
    "        data[\"reward\"] = reward\n",
    "        data[\"next_state\"] = next_state\n",
    "        data[\"terminated\"] = terminated\n",
    "        episode_return += reward\n",
    "        batch.append(data) \n",
    "        # Update the state\n",
    "        state = next_state\n",
    "        # Check if the episode is over\n",
    "        if terminated or truncated:\n",
    "            # Store the episode reward\n",
    "            return_list.append(episode_return)\n",
    "            # Reset the episode reward\n",
    "            episode_return = 0\n",
    "            # Reset the environment\n",
    "            state, _ = env.reset()\n",
    "    return batch, return_list"
   ]
  },
  {
   "cell_type": "code",
   "execution_count": 5,
   "metadata": {},
   "outputs": [],
   "source": [
    "def train_value_network(batch, agent, num_iterations, minibatch_size = 32): \n",
    "    # Iterate through the batch and form the regression targets using the truncated one-step return\n",
    "    for point in batch:\n",
    "        reward = point[\"reward\"]\n",
    "        next_state = torch.tensor(point[\"next_state\"], dtype=torch.float32)\n",
    "        terminated = point[\"terminated\"]\n",
    "        with torch.no_grad():\n",
    "            point[\"regression_target\"] = ____________________\n",
    "\n",
    "    # Perform num_iterations gradient updates \n",
    "    for ii in range(num_iterations):\n",
    "        # Sample a minibatch of data from the batch\n",
    "        minibatch = random.sample(batch, minibatch_size)\n",
    "        # Convert the data to tensors\n",
    "        states = torch.tensor(np.array([point[\"state\"] for point in minibatch]))\n",
    "        regression_targets = torch.tensor([point[\"regression_target\"] for point in minibatch], dtype=torch.float32)\n",
    "        # Compute the value predictions\n",
    "        value_predictions = ____________\n",
    "        # Compute the loss\n",
    "        loss = _________(value_predictions, regression_targets.unsqueeze(dim=1))\n",
    "        # Zero the gradients\n",
    "        __________________\n",
    "        # Compute the gradients\n",
    "        __________________\n",
    "        # Update the weights\n",
    "        __________________"
   ]
  },
  {
   "cell_type": "code",
   "execution_count": 6,
   "metadata": {},
   "outputs": [],
   "source": [
    "def train_policy_network(batch, agent):\n",
    "    # Create the policy objective\n",
    "    J = 0\n",
    "    # Iterate through the batch and form the regression targets using the TD error\n",
    "    for point in batch:\n",
    "        state = torch.tensor(point[\"state\"], dtype=torch.float32)\n",
    "        action = point[\"action\"]\n",
    "        reward = torch.tensor(point[\"reward\"], dtype=torch.float32)\n",
    "        next_state = torch.tensor(point[\"next_state\"], dtype=torch.float32)\n",
    "        terminated = point[\"terminated\"]\n",
    "        with torch.no_grad():\n",
    "            # Compute the advantage\n",
    "            advantage = ______________________\n",
    "        \n",
    "        log_prob = _________________\n",
    "\n",
    "        J += ________________\n",
    "    \n",
    "    # Divide J by the number of datapoints in the batch\n",
    "    J = J/len(batch)\n",
    "\n",
    "    # Add on an L2 regularisation term\n",
    "    l2_reg = 0\n",
    "    for param in agent.policy_network.parameters():\n",
    "        l2_reg += torch.norm(param)**2\n",
    "    J = J - agent.l2_coeff*l2_reg\n",
    "    \n",
    "    # Zero the gradients\n",
    "    ________________\n",
    "    # Compute the gradients\n",
    "    ________________\n",
    "    # Update the weights\n",
    "    ________________        "
   ]
  },
  {
   "cell_type": "code",
   "execution_count": 7,
   "metadata": {},
   "outputs": [],
   "source": [
    "# Define the agent\n",
    "class A2C_agent():\n",
    "    # Initialise the agent\n",
    "    def __init__(self, env, gamma = 0.97, value_lr = 0.001, policy_lr = 0.001, l2_coeff = 0.0001):\n",
    "        # Set the discount factor\n",
    "        self.gamma = gamma\n",
    "        # Set the L2 regularisation coefficient\n",
    "        self.l2_coeff = l2_coeff\n",
    "        # Create the value network\n",
    "        self.value_network = ______\n",
    "        # Create the policy network\n",
    "        self.policy_network = ______\n",
    "        # Create the optimizers\n",
    "        self.value_optimizer = _______________________\n",
    "        self.policy_optimizer = ______________________\n",
    "    \n",
    "    # Define the sample action function\n",
    "    def sample_action(self, state):\n",
    "        # Convert the state to a tensor\n",
    "        state = torch.tensor(state, dtype=torch.float32)\n",
    "        # Compute the action probabilities\n",
    "        action_probs = self.policy_network(state).detach().numpy()\n",
    "        # Sample the action\n",
    "        action = np.random.choice(len(action_probs), p=action_probs)\n",
    "        return action"
   ]
  },
  {
   "cell_type": "code",
   "execution_count": 8,
   "metadata": {},
   "outputs": [],
   "source": [
    "def train_loop(agent, env, num_epochs, steps_per_epoch=1000):\n",
    "    # Create a list to store all the rewards\n",
    "    all_returns = []\n",
    "    # Loop over the number of epochs\n",
    "    for epoch in tqdm(range(num_epochs)):\n",
    "        # Interact with the environment\n",
    "        batch, return_list = interact(agent, env, steps_per_epoch)\n",
    "        # Train the value network\n",
    "        train_value_network(batch, agent, num_iterations=100)\n",
    "        # Train the policy network\n",
    "        train_policy_network(batch, agent)\n",
    "        # Store the rewards\n",
    "        all_returns.extend(return_list)\n",
    "    return all_returns"
   ]
  },
  {
   "cell_type": "code",
   "execution_count": 9,
   "metadata": {},
   "outputs": [],
   "source": [
    "# Plot the returns\n",
    "def plot_returns(return_list):\n",
    "    plt.xlabel('Episode number')\n",
    "    plt.plot(return_list)\n",
    "    plt.ylabel('Return')\n",
    "    plt.xlim(0, len(return_list))\n",
    "    plt.ylim(0.9*min(return_list), 1.1*max(return_list))\n",
    "    plt.show()"
   ]
  },
  {
   "cell_type": "code",
   "execution_count": 10,
   "metadata": {},
   "outputs": [],
   "source": [
    "# Define the visualise function\n",
    "# This displays the agent's behaviour in the environment for 500 steps.  \n",
    "def visualise(agent, env, n_steps):\n",
    "    # Reset the environment\n",
    "    state, _ = env.reset()\n",
    "\n",
    "    # Initialise the list of frames   \n",
    "    frames = []\n",
    "\n",
    "    for _ in range(n_steps):\n",
    "        # Render the environment and store the frame\n",
    "        frames.append(env.render())\n",
    "\n",
    "        # Take an action \n",
    "        action = agent.sample_action(state)\n",
    "        next_state, reward, terminated, truncated, info = env.step(action)\n",
    "        # Update the state\n",
    "        state = next_state\n",
    "        # Check if the episode is over\n",
    "        if terminated or truncated:\n",
    "            state, _ = env.reset()\n",
    "\n",
    "    # Display the movie\n",
    "    for frame in frames:\n",
    "        clear_output(wait=True)\n",
    "        plt.imshow(frame)\n",
    "        plt.show()\n",
    "        sleep(0.003)"
   ]
  },
  {
   "cell_type": "code",
   "execution_count": 11,
   "metadata": {},
   "outputs": [],
   "source": [
    "# Create the environment\n",
    "env = gym.make('CartPole-v1', render_mode='rgb_array')\n",
    "# Create the agent\n",
    "agent = A2C_agent(env)"
   ]
  },
  {
   "cell_type": "code",
   "execution_count": 12,
   "metadata": {},
   "outputs": [
    {
     "data": {
      "application/vnd.jupyter.widget-view+json": {
       "model_id": "3855f4749e0b4fc0b8f499ed61d9423e",
       "version_major": 2,
       "version_minor": 0
      },
      "text/plain": [
       "  0%|          | 0/150 [00:00<?, ?it/s]"
      ]
     },
     "metadata": {},
     "output_type": "display_data"
    }
   ],
   "source": [
    "return_list = train_loop(agent, env, num_epochs=150, steps_per_epoch=1000)"
   ]
  },
  {
   "cell_type": "code",
   "execution_count": 13,
   "metadata": {},
   "outputs": [
    {
     "data": {
      "image/png": "[encoded data removed]",
      "text/plain": [
       "<Figure size 640x480 with 1 Axes>"
      ]
     },
     "metadata": {},
     "output_type": "display_data"
    }
   ],
   "source": [
    "plot_returns(return_list)"
   ]
  },
  {
   "cell_type": "code",
   "execution_count": 14,
   "metadata": {},
   "outputs": [
    {
     "data": {
      "image/png": "[encoded data removed]",
      "text/plain": [
       "<Figure size 640x480 with 1 Axes>"
      ]
     },
     "metadata": {},
     "output_type": "display_data"
    }
   ],
   "source": [
    "# Visualise the agent's behaviour\n",
    "visualise(agent, env, 500)"
   ]
  },
  {
   "cell_type": "code",
   "execution_count": 15,
   "metadata": {},
   "outputs": [
    {
     "data": {
      "text/plain": [
       "1405"
      ]
     },
     "execution_count": 15,
     "metadata": {},
     "output_type": "execute_result"
    }
   ],
   "source": [
    "len(return_list)"
   ]
  }
 ],
 "metadata": {
  "kernelspec": {
   "display_name": "comp_neuro",
   "language": "python",
   "name": "python3"
  },
  "language_info": {
   "codemirror_mode": {
    "name": "ipython",
    "version": 3
   },
   "file_extension": ".py",
   "mimetype": "text/x-python",
   "name": "python",
   "nbconvert_exporter": "python",
   "pygments_lexer": "ipython3",
   "version": "3.9.18"
  }
 },
 "nbformat": 4,
 "nbformat_minor": 2
}

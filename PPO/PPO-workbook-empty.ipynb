{
 "cells": [
  {
   "cell_type": "code",
   "execution_count": 1,
   "metadata": {},
   "outputs": [],
   "source": [
    "import gymnasium as gym\n",
    "\n",
    "import torch\n",
    "import torch.nn as nn\n",
    "import torch.nn.functional as F\n",
    "import torch.optim as optim\n",
    "\n",
    "import numpy as np\n",
    "import matplotlib.pyplot as plt\n",
    "from IPython.display import clear_output\n",
    "from time import sleep\n",
    "\n",
    "from tqdm.notebook import tqdm\n",
    "from collections import namedtuple\n",
    "from collections import deque\n",
    "import random\n",
    "\n",
    "from typing import List, Dict, Tuple\n",
    "from torchtyping import TensorType"
   ]
  },
  {
   "cell_type": "markdown",
   "metadata": {},
   "source": [
    "## Value and target networks\n",
    "First we develop the value network class for PPO. We will use an MLP for the value network. Remeber that the value network in PPO is a state value network, and maps from states to a single value, $V(s;\\phi)$. \n",
    "\n",
    "### Architecture recommendations\n",
    "* Use 3 hidden layers with 128 units each\n",
    "* Use ReLU activations"
   ]
  },
  {
   "cell_type": "code",
   "execution_count": 2,
   "metadata": {},
   "outputs": [],
   "source": [
    "# Define the (state) value network\n",
    "class VNet(nn.Module):\n",
    "    # Initialise the network\n",
    "    def __init__(self, env: gym.Env):\n",
    "        # Call the parent class\n",
    "        super().__init__()\n",
    "        # Set the input and output size\n",
    "        self.obs_dim = env.observation_space.shape[0]\n",
    "        # Define the layers of the network\n",
    "        self.layers = nn.Sequential(\n",
    "            _________________\n",
    "        )\n",
    "\n",
    "    def ______(self, x: TensorType) -> TensorType:\n",
    "        return self.layers(x)"
   ]
  },
  {
   "cell_type": "markdown",
   "metadata": {},
   "source": [
    "## Policy network\n",
    "Next we develop the policy network class for PPO. We will again use an MLP for the policy network. Remeber that the policy network maps from states to a distribution over actions, $\\pi(a|s;\\theta)$\n",
    "\n",
    "### Architecture recommendations\n",
    "* Use 3 hidden layers with 128 units each\n",
    "* Use ReLU activations\n",
    "* In the last layer, use a softmax activation function to output a probability distribution over actions"
   ]
  },
  {
   "cell_type": "code",
   "execution_count": 3,
   "metadata": {},
   "outputs": [],
   "source": [
    "# Define the policy network\n",
    "class PolicyNet(nn.Module):\n",
    "    # Initialise the network\n",
    "    def __init__(self, env: gym.Env):\n",
    "        # Call the parent class\n",
    "        super().__init__()\n",
    "        # Set the input and output size\n",
    "        self.obs_dim = env.observation_space.shape[0]\n",
    "        self.n_actions = env.action_space.n\n",
    "        # Define the layers of the network\n",
    "        self.layers = nn.Sequential(\n",
    "            _________________\n",
    "            # After the last linear layer of the network apply a softmax function at dim=-1\n",
    "            _________________\n",
    "        )\n",
    "\n",
    "    def forward(self, x: TensorType) -> TensorType:\n",
    "        return __________"
   ]
  },
  {
   "cell_type": "markdown",
   "metadata": {},
   "source": [
    "## PPO agent\n",
    "Finally, we develop the PPO agent class. The agent a policy network and a value network. The policy network and value network both have optimisers."
   ]
  },
  {
   "cell_type": "code",
   "execution_count": 63,
   "metadata": {},
   "outputs": [],
   "source": [
    "# Define the agent\n",
    "class PPOAgent:\n",
    "    # Initialise the agent\n",
    "    def __init__(\n",
    "        self,\n",
    "        env: gym.Env,\n",
    "        gamma: float = 0.98,\n",
    "        epsilon: float = 0.04,\n",
    "        value_lr: float = 0.0003,\n",
    "        policy_lr: float = 0.0003,\n",
    "    ):\n",
    "        # Set the discount factor\n",
    "        self._____ = ______\n",
    "        # Set the clipping parameter\n",
    "        self._____ = ______\n",
    "        # Create the value network\n",
    "        self.value_network = VNet(env)\n",
    "        # Create the policy network\n",
    "        self.policy_network = PolicyNet(env)\n",
    "        # Create the value optimizer\n",
    "        self.value_optimizer = optim.Adam(self.value_network.parameters(), lr=value_lr)\n",
    "        # Create the policy optimizer. Remeber that we are maximising the policy objective\n",
    "        self.policy_optimizer = optim.Adam(\n",
    "            self.policy_network.parameters(), lr=policy_lr, maximize=True\n",
    "        )\n",
    "\n",
    "    # Define the sample action function\n",
    "    def sample_action(self, state: np.ndarray) -> int:\n",
    "        # Convert the state to a tensor\n",
    "        state = torch.tensor(state, dtype=torch.float32)\n",
    "        # Enter no gradient mode\n",
    "        with torch.no_grad():\n",
    "            # Get the action probabilities\n",
    "            action_probs = _____________\n",
    "        # Sample the action\n",
    "        action = np.random.choice(len(action_probs), p=action_probs.numpy())\n",
    "        return action"
   ]
  },
  {
   "cell_type": "markdown",
   "metadata": {},
   "source": [
    "## Interacting with the environment\n",
    "\n",
    "This method will be used to interact with the environment and collect a batch of experiences, which will be used to train both the policy and value networks."
   ]
  },
  {
   "cell_type": "code",
   "execution_count": 64,
   "metadata": {},
   "outputs": [],
   "source": [
    "# Define the interact function\n",
    "def interact(\n",
    "    agent: PPOAgent, env: gym.Env, steps: int\n",
    ") -> Tuple[List[dict], float]:\n",
    "    # Initialise the data storage\n",
    "    batch = []\n",
    "    # Initialise the returns list\n",
    "    return_list = []\n",
    "    # Initialize the state\n",
    "    state, _ = env.reset()\n",
    "    # Initialize the episode return\n",
    "    episode_return = 0\n",
    "    for _ in range(steps):\n",
    "        # Create a dictionary to store the datapoint\n",
    "        data = {\"state\": state}\n",
    "        # Choose the action\n",
    "        action = agent.sample_action(state)\n",
    "        data[\"action\"] = action\n",
    "        # Perform the action in the environment\n",
    "        next_state, reward, terminated, truncated, _ = env.step(action)\n",
    "        data[\"reward\"] = reward\n",
    "        data[\"next_state\"] = next_state\n",
    "        data[\"terminated\"] = terminated\n",
    "        episode_return += reward\n",
    "        batch.append(data)\n",
    "        # Update the state\n",
    "        state = next_state\n",
    "        # Check if the episode is over\n",
    "        if terminated or truncated:\n",
    "            # Store the episode reward\n",
    "            return_list.append(episode_return)\n",
    "            # Reset the episode reward\n",
    "            episode_return = 0\n",
    "            # Reset the environment\n",
    "            state, _ = env.reset()\n",
    "    return batch, np.mean(return_list)"
   ]
  },
  {
   "cell_type": "markdown",
   "metadata": {},
   "source": [
    "## Training the value network\n",
    "\n",
    "For each batch of data, we first train the value network.\n",
    "1. We start by iterating through the data in the batch and computing the regression targets using the formula: $$y_i = r_i + \\gamma (1 - d_i) V(s'_i;\\phi)$$\n",
    "2. Then, for a number of training steps:\n",
    "    1. Extract a mini-batch of data\n",
    "    2. Compute the mean square error loss between the predicted values and the regression targets\n",
    "    3. Backpropagate the loss through the value network and update the value network parameters\n",
    "\n",
    "\n"
   ]
  },
  {
   "cell_type": "code",
   "execution_count": 65,
   "metadata": {},
   "outputs": [],
   "source": [
    "def train_value_network(\n",
    "    batch: List[dict], agent: PPOAgent, num_iterations: int, mini_batch_size: int = 32\n",
    "):\n",
    "    # First, iterate through the batch and compute the regression targets for each data point\n",
    "    for point in batch:\n",
    "        reward = point[\"reward\"]\n",
    "        next_state = torch.tensor(point[\"next_state\"], dtype=torch.float32)\n",
    "        terminated = point[\"terminated\"]\n",
    "        # Enter into no gradient mode\n",
    "        with torch.no_grad():\n",
    "            # Compute the regression target\n",
    "            point[\"regression_target\"] = _______________\n",
    "\n",
    "    # Perform num_iterations gradient updates\n",
    "    for ii in range(num_iterations):\n",
    "        # Sample a mini_batch of data from the batch\n",
    "        mini_batch = random.sample(batch, mini_batch_size)\n",
    "        # Create the tensors for the states and regression targets\n",
    "        states = torch.tensor(\n",
    "            [point[\"state\"] for point in mini_batch], dtype=torch.float32\n",
    "        )\n",
    "        regression_targets = torch.tensor(\n",
    "            [point[\"regression_target\"] for point in mini_batch], dtype=torch.float32\n",
    "        )\n",
    "        regression_targets.unsqueeze_(-1)\n",
    "\n",
    "        # Compute the value predictions\n",
    "        value_predictions = ________________\n",
    "        # Compute the loss\n",
    "        loss = F.mse_loss(____________, ____________)\n",
    "        # Zero the gradients\n",
    "        ________________   \n",
    "        # Compute the gradients\n",
    "        ________________\n",
    "        # Update the weights\n",
    "        ________________"
   ]
  },
  {
   "cell_type": "markdown",
   "metadata": {},
   "source": [
    "## Training the policy network\n",
    "\n",
    "For each batch of data, we next train the policy network.\n",
    "1. Loop through the batch of data.\n",
    "    1. For each data point, compute the advantage estimate, $A_i = r_i + \\gamma(1 - d_i)V(s'_i;\\phi) - V(s_i;\\phi)$\n",
    "    2. For each data point, compute the old action probability, $\\pi(a_i|s_i;\\theta^{\\rm old})$\n",
    "2. Then, for a number of training steps:\n",
    "    1. Extract a mini-batch of data\n",
    "    2. Compute the policy objective, $$J(\\theta) = \\frac{1}{N} \\sum_i \\min\\left( A_i \\frac{\\pi(a_i|s_i;\\theta)}{\\pi(a_i|s_i;\\theta^{\\rm old})}, A_i~\\mathrm{clip}\\left( \\frac{\\pi(a_i|s_i;\\theta)}{\\pi(a_i|s_i;\\theta^{\\rm old})}, 1 - \\epsilon, 1 + \\epsilon \\right) \\right)$$\n",
    "    3. Perform a gradient ascent step on the policy objective"
   ]
  },
  {
   "cell_type": "code",
   "execution_count": 66,
   "metadata": {},
   "outputs": [],
   "source": [
    "def train_policy_network(\n",
    "    batch: List[Dict], agent: PPOAgent, num_iterations: int, mini_batch_size: int = 32\n",
    "):\n",
    "    # Iterate through the batch and form the advantage estimates and old probabilities for each data point\n",
    "    for point in batch:\n",
    "        state = torch.tensor(point[\"state\"], dtype=torch.float32)\n",
    "        reward = torch.tensor(point[\"reward\"], dtype=torch.float32)\n",
    "        next_state = torch.tensor(point[\"next_state\"], dtype=torch.float32)\n",
    "        action = torch.tensor(point[\"action\"], dtype=torch.int64)\n",
    "        terminated = point[\"terminated\"]\n",
    "        # Enter no gradient mode:\n",
    "        with torch.no_grad():\n",
    "            # Compute the next state values using the target network\n",
    "            next_state_value = agent.value_network(next_state)\n",
    "            # Zero out the next state values for the terminal states\n",
    "            next_state_value[terminated] = 0\n",
    "            # Compute the advantage\n",
    "            point[\"advantage\"] = (\n",
    "               ______________________\n",
    "            )\n",
    "            # Compute the old action probabilities\n",
    "            point[\"old_action_probs\"] = __________________\n",
    "\n",
    "    # Perform num_iterations gradient updates\n",
    "    for ii in range(num_iterations):\n",
    "        # Sample a mini_batch of data from the batch\n",
    "        mini_batch = random.sample(batch, mini_batch_size)\n",
    "        # Create the tensors for the states, actions, and advantages\n",
    "        states = torch.tensor(\n",
    "            [point[\"state\"] for point in mini_batch], dtype=torch.float32\n",
    "        )\n",
    "        actions = torch.tensor(\n",
    "            [point[\"action\"] for point in mini_batch], dtype=torch.int64\n",
    "        )\n",
    "        advantages = torch.tensor(\n",
    "            [point[\"advantage\"] for point in mini_batch], dtype=torch.float32\n",
    "        )\n",
    "        old_action_probs = torch.tensor(\n",
    "            [point[\"old_action_probs\"] for point in mini_batch], dtype=torch.float32\n",
    "        )\n",
    "\n",
    "        # Compute the action probabilities\n",
    "        action_probs = agent.policy_network(states)[range(mini_batch_size), actions]\n",
    "        # Compute the ratio\n",
    "        ratio = ______________________\n",
    "        # Compute the clipped ratio\n",
    "        clipped_ratio = _____________________\n",
    "        # Compute the policy objective\n",
    "        policy_objective = torch.min(\n",
    "            _____________, _____________\n",
    "        ).mean()\n",
    "        # Zero the gradients\n",
    "        ______________________\n",
    "        # Compute the gradients\n",
    "        ______________________\n",
    "        # Update the weights\n",
    "        ______________________"
   ]
  },
  {
   "cell_type": "markdown",
   "metadata": {},
   "source": [
    "## Implementing the training loop\n",
    "\n",
    "Finally, we implement the training loop. \n",
    "1. Interact with the environment for a number of steps, getting a batch of data\n",
    "2. Train the value network\n",
    "3. Train the policy network"
   ]
  },
  {
   "cell_type": "code",
   "execution_count": 67,
   "metadata": {},
   "outputs": [],
   "source": [
    "def train_loop(\n",
    "    agent: PPOAgent, env: gym.Env, num_epochs: int, steps_per_epoch: int = 1000\n",
    ") -> List[float]:\n",
    "    # Create a list to store all the rewards\n",
    "    all_returns = []\n",
    "    # Loop over the number of epochs\n",
    "    for epoch in tqdm(range(num_epochs)):\n",
    "        # Interact with the environment\n",
    "        batch, average_return = interact(agent, env, steps_per_epoch)\n",
    "        # Train the value network\n",
    "        train_value_network(batch, agent, num_iterations=60)\n",
    "        # Train the policy network\n",
    "        train_policy_network(batch, agent, num_iterations=60)\n",
    "        # Store the rewards\n",
    "        all_returns.append(average_return)\n",
    "    return all_returns"
   ]
  },
  {
   "cell_type": "markdown",
   "metadata": {},
   "source": [
    "## Helper functions\n",
    "We define some helper functions to:\n",
    "1. Evaluate the agent's performance\n",
    "2. Visualise the agent's performance\n",
    "3. Plot the (smoothed) returns from training episodes"
   ]
  },
  {
   "cell_type": "code",
   "execution_count": 68,
   "metadata": {},
   "outputs": [],
   "source": [
    "# Plot the returns\n",
    "def plot_returns(return_list):\n",
    "    plt.xlabel(\"Training epoch\")\n",
    "    plt.plot(return_list)\n",
    "    plt.ylabel(\"Average Return\")\n",
    "    plt.xlim(0, len(return_list))\n",
    "    plt.ylim(0.9 * min(return_list), 1.1 * max(return_list))\n",
    "    plt.show()"
   ]
  },
  {
   "cell_type": "code",
   "execution_count": 69,
   "metadata": {},
   "outputs": [],
   "source": [
    "# Define the evaluate function\n",
    "def evaluate(agent: PPOAgent, env: gym.Env, n_episodes: int) -> float:\n",
    "    # Initialise the list of rewards\n",
    "    returns = []\n",
    "\n",
    "    # Loop over the episodes\n",
    "    for episode in tqdm(range(n_episodes)):\n",
    "        # Get the initial state\n",
    "        state, _ = env.reset()\n",
    "        # Initialise the episode reward\n",
    "        episode_return = 0\n",
    "\n",
    "        # Loop over the steps\n",
    "        while True:\n",
    "            # Choose the action according to the policy\n",
    "            action = agent.sample_action(state)\n",
    "            # Take the action\n",
    "            next_state, reward, terminated, truncated, info = env.step(action)\n",
    "            # Update the state and reward\n",
    "            state = next_state\n",
    "            episode_return += reward\n",
    "            # Break if the episode has terminated\n",
    "            if terminated or truncated:\n",
    "                break\n",
    "\n",
    "        # Append the episode reward to the list of rewards\n",
    "        returns.append(episode_return)\n",
    "    # Return the mean of the rewards\n",
    "    return np.mean(returns)"
   ]
  },
  {
   "cell_type": "code",
   "execution_count": 70,
   "metadata": {},
   "outputs": [],
   "source": [
    "# Define the visualise function\n",
    "# This displays the agent's behaviour in the environment for n_steps.\n",
    "def visualise(agent: PPOAgent, env: gym.Env, n_steps: int):\n",
    "    # Reset the environment\n",
    "    state, _ = env.reset()\n",
    "\n",
    "    # Initialise the list of frames\n",
    "    frames = []\n",
    "\n",
    "    for _ in range(n_steps):\n",
    "        # Render the environment and store the frame\n",
    "        frames.append(env.render())\n",
    "\n",
    "        # Take an action\n",
    "        action = agent.sample_action(state)\n",
    "        next_state, reward, terminated, truncated, info = env.step(action)\n",
    "        # Update the state\n",
    "        state = next_state\n",
    "        # Check if the episode is over\n",
    "        if terminated or truncated:\n",
    "            state, _ = env.reset()\n",
    "\n",
    "    # Display the movie\n",
    "    for frame in frames:\n",
    "        clear_output(wait=True)\n",
    "        plt.imshow(frame)\n",
    "        plt.show()\n",
    "        sleep(0.003)"
   ]
  },
  {
   "cell_type": "markdown",
   "metadata": {},
   "source": [
    "# Let's gooooooooo"
   ]
  },
  {
   "cell_type": "code",
   "execution_count": 78,
   "metadata": {},
   "outputs": [],
   "source": [
    "# Create the environment\n",
    "env = gym.make(\"CartPole-v1\", render_mode=\"rgb_array\")\n",
    "# Create the agent\n",
    "agent = PPOAgent(env)"
   ]
  },
  {
   "cell_type": "code",
   "execution_count": 79,
   "metadata": {},
   "outputs": [
    {
     "data": {
      "application/vnd.jupyter.widget-view+json": {
       "model_id": "056b8f55867c4244a307d91a6f5e3f1f",
       "version_major": 2,
       "version_minor": 0
      },
      "text/plain": [
       "  0%|          | 0/100 [00:00<?, ?it/s]"
      ]
     },
     "metadata": {},
     "output_type": "display_data"
    },
    {
     "name": "stdout",
     "output_type": "stream",
     "text": [
      "Performance before training: 21.3\n"
     ]
    }
   ],
   "source": [
    "# Evaluate the agent's performance before training\n",
    "print(\"Performance before training:\", evaluate(agent, env, 100))"
   ]
  },
  {
   "cell_type": "code",
   "execution_count": 80,
   "metadata": {},
   "outputs": [],
   "source": [
    "# Visualise the agent's behaviour\n",
    "visualise(agent, env, 100)"
   ]
  },
  {
   "cell_type": "code",
   "execution_count": 81,
   "metadata": {},
   "outputs": [
    {
     "data": {
      "application/vnd.jupyter.widget-view+json": {
       "model_id": "716615bacadc4b7aaa9286edb97f84fd",
       "version_major": 2,
       "version_minor": 0
      },
      "text/plain": [
       "  0%|          | 0/100 [00:00<?, ?it/s]"
      ]
     },
     "metadata": {},
     "output_type": "display_data"
    }
   ],
   "source": [
    "return_list = train_loop(agent, env, num_epochs=100, steps_per_epoch=1000)"
   ]
  },
  {
   "cell_type": "code",
   "execution_count": 82,
   "metadata": {},
   "outputs": [
    {
     "data": {
      "image/png": "[encoded data removed]",
      "text/plain": [
       "<Figure size 640x480 with 1 Axes>"
      ]
     },
     "metadata": {},
     "output_type": "display_data"
    }
   ],
   "source": [
    "plot_returns(return_list)"
   ]
  },
  {
   "cell_type": "code",
   "execution_count": 83,
   "metadata": {},
   "outputs": [
    {
     "data": {
      "application/vnd.jupyter.widget-view+json": {
       "model_id": "a15da7397c7f4c56bbbcee11a1c71274",
       "version_major": 2,
       "version_minor": 0
      },
      "text/plain": [
       "  0%|          | 0/100 [00:00<?, ?it/s]"
      ]
     },
     "metadata": {},
     "output_type": "display_data"
    },
    {
     "name": "stdout",
     "output_type": "stream",
     "text": [
      "Performance before training: 381.51\n"
     ]
    }
   ],
   "source": [
    "# Evaluate the agent's performance before training\n",
    "print(\"Performance before training:\", evaluate(agent, env, 100))"
   ]
  },
  {
   "cell_type": "code",
   "execution_count": 84,
   "metadata": {},
   "outputs": [
    {
     "data": {
      "image/png": "[encoded data removed]",
      "text/plain": [
       "<Figure size 640x480 with 1 Axes>"
      ]
     },
     "metadata": {},
     "output_type": "display_data"
    }
   ],
   "source": [
    "# Visualise the agent's behaviour\n",
    "visualise(agent, env, 500)"
   ]
  }
 ],
 "metadata": {
  "kernelspec": {
   "display_name": "comp_neuro",
   "language": "python",
   "name": "python3"
  },
  "language_info": {
   "codemirror_mode": {
    "name": "ipython",
    "version": 3
   },
   "file_extension": ".py",
   "mimetype": "text/x-python",
   "name": "python",
   "nbconvert_exporter": "python",
   "pygments_lexer": "ipython3",
   "version": "3.9.18"
  }
 },
 "nbformat": 4,
 "nbformat_minor": 2
}

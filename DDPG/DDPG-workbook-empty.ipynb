{
 "cells": [
  {
   "cell_type": "code",
   "execution_count": 1,
   "metadata": {},
   "outputs": [],
   "source": [
    "import gymnasium as gym\n",
    "\n",
    "import torch \n",
    "import torch.nn as nn\n",
    "import torch.nn.functional as F\n",
    "import torch.optim as optim\n",
    "\n",
    "import numpy as np\n",
    "import matplotlib.pyplot as plt\n",
    "from IPython.display import clear_output\n",
    "from time import sleep\n",
    "\n",
    "from tqdm.notebook import tqdm\n",
    "from collections import namedtuple\n",
    "from collections import deque\n",
    "import random"
   ]
  },
  {
   "cell_type": "markdown",
   "metadata": {},
   "source": [
    "## The Pendulum environment\n",
    "\n",
    "The pendulum environment is a classic reinforcement learning control task. The environment consists of a pendulum that can swing 360 degrees. The pendulum is actuated by applying a torque on the joint between the pendulum and the base. The goal is to swing up the pendulum so it stays upright. The pendulum starts in a random position, and the goal is to get it to the upright position and keep it there.\n",
    "\n",
    "### Termination and truncations conditions\n",
    "The episode truncates after 200 time steps. There is no termination condition.\n",
    "\n",
    "### State space\n",
    "At each time point, the observations space is a 3-dimensional vector. The first two dimensions are the sin and cos of the angle of the pendulum. The third dimension is the angular velocity of the pendulum.\n",
    "\n",
    "### Action space\n",
    "The action space is a single continuous value, which is the torque applied to the joint. The torque is bounded between -2 and 2.\n",
    "\n",
    "### Rewards\n",
    "The reward at each time step is given by:\n",
    "$$ r_t = -\\left(\\theta^2 + 0.1 \\dot{\\theta}^2 + 0.001 a^2\\right) $$\n",
    "where $\\theta$ is the angle of the pendulum, $\\theta_{dot}$ is the angular velocity of the pendulum, and $a$ is the torque applied to the joint. Note that the angle $\\theta$ is normalized to be between $-\\pi$ and $\\pi$, so that the reward is maximised when the pendulum is upright.\n",
    "\n"
   ]
  },
  {
   "cell_type": "markdown",
   "metadata": {},
   "source": [
    "# The DDPG algorithm components\n",
    "\n",
    "The DDPG algorithm uses the following components\n",
    "\n",
    "## Networks\n",
    "\n",
    "1. **The policy network**: This is the core of DDPG. The policy network is a deterministic mapping from states to actions. \n",
    "2. **The value network**: This is a Q-network much like the one used in DQN. Unlike the DQN network, this network takes in state-action pairs and outputs values estimates for that pair. \n",
    "3. **The target policy network**: This is a (delayed) copy of the policy network used for calculating target values for performing regression on the value network.\n",
    "4. **The target value network**: This is a (delayed) copy of the value network used for:\n",
    "    * Calculating the target values for performing regression on the value network\n",
    "    * Forming the objective function on which the policy network is trained.\n",
    "\n",
    "## Other elements\n",
    "\n",
    "1. **Replay buffer**: This functions like in the DQN algorithm. This stores the last M transitions from which we sample to perform network updates.\n",
    "2. **Exploration policy**: In the DQN algorithm, exploration was achieved using an $\\epsilon$-greedy policy. In DDPG, exploration is achieved by adding noise to the output of the policy network. "
   ]
  },
  {
   "cell_type": "code",
   "execution_count": 6,
   "metadata": {},
   "outputs": [],
   "source": [
    "# We now define the value network \n",
    "\n",
    "    # Initialise the network using the dimensions of the state and action spaces\n",
    "    def __init__(self, env):\n",
    "        # Use the nn.Module's __init__ method to ensure that the parameters can be updated during training\n",
    "        super(Q_net, self).__init__()\n",
    "        # Define the dimensions of the state and action spaces\n",
    "        state_dim = env.observation_space.shape[0]\n",
    "        action_dim = env.action_space.shape[0]\n",
    "        # Define the layers of the network. This network will be a MLP.  \n",
    "        # The network takes in (state-action) pairs and returns values. \n",
    "        # We will use the nn.Sequential() container to store the layers of the MLP.  \n",
    "        self.Layers = \n",
    "\n",
    "    # Define the forward pass of the network\n",
    "    \n",
    "        # Reshape the state to be batch_size x state_dim\n",
    "        state = state.view(state.size(0), -1)\n",
    "        # Reshape the action to be batch_size x action_dim\n",
    "        action = action.view(action.size(0), -1)\n",
    "        # Concatenate the state and action\n",
    "        x = torch.cat((state, action), dim=1)\n",
    "        # Pass the concatenated input through the layers of the network\n",
    "        x = self.Layers(x)\n",
    "        # Return the output of the network\n",
    "        return x"
   ]
  },
  {
   "cell_type": "code",
   "execution_count": 7,
   "metadata": {},
   "outputs": [],
   "source": [
    "# Next, the policy network\n",
    "\n",
    "    # Initialise the network using the dimensions of the state and action spaces\n",
    "    def __init__(self, env):\n",
    "        # Use the nn.Module's __init__ method to ensure that the parameters can be updated during training\n",
    "        super(policy_network, self).__init__()\n",
    "        # save the action space limits as torch tensors\n",
    "        self.action_low = torch.tensor(env.action_space.low, dtype=torch.float32)\n",
    "        self.action_high = torch.tensor(env.action_space.high, dtype=torch.float32)\n",
    "        self.state_dim = env.observation_space.shape[0]\n",
    "        self.action_dim = env.action_space.shape[0]\n",
    "        # Define the layers of the network. This network will be a MLP.  \n",
    "        # This takes in states and returns actions.\n",
    "        # We will use the nn.Sequential() container to store the layers of the MLP.  \n",
    "        # At the end we pass the output of the network through a tanh activation function.\n",
    "        self.Layers = \n",
    "\n",
    "    # Define the forward pass of the network\n",
    "    \n",
    "        # Pass the state through the network\n",
    "        x = self.Layers(state)\n",
    "        # Scale the output of the network to be within the action space\n",
    "        x = x * (self.action_high - self.action_low) / 2 + (self.action_high + self.action_low) / 2        \n",
    "        return x"
   ]
  },
  {
   "cell_type": "code",
   "execution_count": 8,
   "metadata": {},
   "outputs": [],
   "source": [
    "# Define the transition named tuple\n",
    "# This will be used to store the transitions (state, action, reward, next_state, terminated) in the replay buffer\n",
    "Transition = namedtuple('Transition', ('state', 'action', 'reward', 'next_state', 'terminated'))\n",
    "\n",
    "# Define the ReplayBuffer class\n",
    "class ReplayBuffer:\n",
    "    # Initialise the buffer with a capacity. \n",
    "    def __init__(self, capacity):\n",
    "        # Use a deque object to implement the buffer\n",
    "        self.buffer = deque(maxlen=capacity)\n",
    "\n",
    "    # Define the push method to add a transition to the buffer\n",
    "    def push(self, state, action, reward, next_state, terminated):\n",
    "        self.buffer.append(Transition(state, action, reward, next_state, terminated))\n",
    "\n",
    "    # Sample a batch of transitions for training\n",
    "    def sample(self, batch_size):\n",
    "        return random.sample(self.buffer, batch_size)"
   ]
  },
  {
   "cell_type": "code",
   "execution_count": 9,
   "metadata": {},
   "outputs": [],
   "source": [
    "# Define the Polyak averaging function\n",
    "def polyak_average(polyak, base_network, target_network):\n",
    "    # Retrive the state dictionaries of the base and target networks\n",
    "    base_network_state_dict = \n",
    "    target_network_state_dict = \n",
    "    # Iterate through the parameter names\n",
    "    for param_name in base_network_state_dict.keys():\n",
    "        # Update the target network's parameters using Polyak averaging\n",
    "        target_network_state_dict[param_name] = \n",
    "    # Load the updated state dictionary into the target value network\n",
    "    "
   ]
  },
  {
   "cell_type": "markdown",
   "metadata": {},
   "source": [
    "## The DDPG agent\n",
    "We now define the DDPG agent class. \n",
    "\n",
    "1. **The value system**, which consists of:\n",
    "    - **Value network**, implemented using the Q_net class\n",
    "    - **A target value network**, implemented using the Q_net class\n",
    "    - **Value optimiser**, which is used to train the value network\n",
    "2. **The policy system**, which consists of:\n",
    "    - **A policy network**, implemented using the Policy_net class\n",
    "    - **A target policy network**, implemented using the Policy_net class\n",
    "    - **Policy Optimiser**, which is used to train the value network\n",
    "3. **A replay buffer**, implemented using the ReplayBuffer class\n",
    "4. **A noisy policy**, implemented by adding noise to the output of the policy network\n",
    "5. **Target network update function**, which updates the target networks using Polyak averaging\n"
   ]
  },
  {
   "cell_type": "code",
   "execution_count": 10,
   "metadata": {},
   "outputs": [],
   "source": [
    "# Define the DDPG_agent class\n",
    "class DDPG_agent:\n",
    "    def __init__(self, env, buffer_capacity=200000, gamma=0.99, sigma=0.1, lr=0.001, batch_size=64, poylak = 0.99):\n",
    "        # Save the input parameters (state and action dimensions, buffer capacity, discount factor, noise standard deviation, learning rate, batch size, and polyak parameter)\n",
    "        self.state_dim = env.observation_space.shape[0]\n",
    "        self.action_dim = env.action_space.shape[0]\n",
    "        self.action_low = env.action_space.low\n",
    "        self.action_high = env.action_space.high\n",
    "        self.buffer_capacity = buffer_capacity\n",
    "        self.gamma = gamma\n",
    "        self.sigma = sigma\n",
    "        self.batch_size = batch_size\n",
    "        self.polyak = poylak\n",
    "\n",
    "        # Create the value network\n",
    "        self.value = \n",
    "        # Create the target value network\n",
    "        self.target_value = \n",
    "        # Create the optimiser for the value network\n",
    "        self.value_optimiser = \n",
    "        # Set the target value network's parameters to be the same as the value network's\n",
    "        \n",
    "        # Create the policy network\n",
    "        self.policy = \n",
    "        # Create the target policy network\n",
    "        self.target_policy =\n",
    "        # Create the optimiser for the policy network with the maximize=True argument to perform gradient ascent\n",
    "        self.policy_optimiser =\n",
    "        # Set the target policy network's parameters to be the same as the policy network's\n",
    "        \n",
    "        # Create the replay buffer\n",
    "        self.replay_buffer = ReplayBuffer(buffer_capacity)\n",
    "    \n",
    "    # Define the update method for the target networks\n",
    "    def update_targets(self):\n",
    "        # Update the target value network\n",
    "\n",
    "        # Update the target policy network\n",
    "        \n",
    "\n",
    "    # Define the noisy policy\n",
    "    def noisy_policy(self, state):\n",
    "        # Pass the state through the policy network to get the action\n",
    "        action = self.policy(state)\n",
    "        # Add noise to the action\n",
    "        action += \n",
    "        # Clip the action to the range of the action space\n",
    "        action = torch.clamp(action, torch.tensor(self.action_low), torch.tensor(self.action_high))\n",
    "        # Return the noisy action\n",
    "        return action"
   ]
  },
  {
   "cell_type": "markdown",
   "metadata": {},
   "source": [
    "## Interacting with the environment\n",
    "\n",
    "During training, the DDPG agent must interact with the environment in order to collect transitions to be added to the replay buffer. We define an **interact** function that takes in the environment, the DDPG agent, and the number of time steps to interact for. This function will use the noisy policy to select actions, and will store the transitions in the replay buffer."
   ]
  },
  {
   "cell_type": "code",
   "execution_count": null,
   "metadata": {},
   "outputs": [],
   "source": [
    "# Define the interact method\n",
    "# This method takes in an agent, an environment, and the number of steps to interact for.\n",
    "def interact(agent, env, n_steps, current_state):\n",
    "    reward_list = []\n",
    "    # Loop over the steps\n",
    "    with torch.no_grad():\n",
    "        for step in range(n_steps):\n",
    "            # Choose an action using the epsilon greedy policy\n",
    "            action = agent.noisy_policy(torch.tensor(current_state, dtype=torch.float32))\n",
    "            # Take a step in the environment using the action\n",
    "            next_state, reward, terminated, truncated, info = env.step(action)\n",
    "            # Append the reward to the reward list\n",
    "            reward_list.append(reward) \n",
    "            # Push the transition to the replay buffer\n",
    "            agent.replay_buffer.push(current_state, action, reward, next_state, terminated)\n",
    "            # Update the current state\n",
    "            current_state = next_state\n",
    "            # Reset the environment if the episode is terminated or truncated\n",
    "            if terminated or truncated:\n",
    "                current_state, info = env.reset()\n",
    "    # Return the reward list and the updated state\n",
    "    return reward_list, current_state\n",
    "    \n",
    "            "
   ]
  },
  {
   "cell_type": "markdown",
   "metadata": {},
   "source": [
    "## Training the DDPG agent\n",
    "\n",
    "We define a **update weights** function that updates the weights of the value and policy networks for a DDPG agent. This function will:\n",
    "1. Sample a mini-batch of transitions from the replay buffer\n",
    "2. Extracts the states, actions, rewards, next_states, and terminated flags from the transitions\n",
    "3. Uses the target network, rewards, and terminated flags to compute the regression targets for the value network \n",
    "4. Computes:\n",
    "    + The MSE loss between the value network predictions and the regression targets\n",
    "    + The objective function for the policy network\n",
    "5. Runs backpropagation and updates the weights of the networks\n",
    "\n",
    "As a reminder, the regression targets for $Q(S,A)$ are given by:\n",
    "$$ R + \\gamma (1-\\text{terminated}) Q(S',\\mu(S'))$$"
   ]
  },
  {
   "cell_type": "code",
   "execution_count": 12,
   "metadata": {},
   "outputs": [],
   "source": [
    "# This method updates the weights of the value-network of the agent using a batch of transitions\n",
    "def update_weights(agent):\n",
    "    # Sample a batch of transitions from the replay buffer\n",
    "    batch = agent.replay_buffer.sample(agent.batch_size)\n",
    "    \n",
    "    # Extract the batch of states as float32 tensors \n",
    "    states = torch.tensor([transition.state for transition in batch], dtype=torch.float32)\n",
    "    # Extract the batch of actions as int64 tensors\n",
    "    actions = torch.tensor([transition.action for transition in batch], dtype=torch.float32)\n",
    "    # Extract the batch of rewards as float32 tensors\n",
    "    rewards = torch.tensor([transition.reward for transition in batch], dtype=torch.float32)\n",
    "    rewards = rewards.unsqueeze(1)\n",
    "    # Extract the batch of next states as float32 tensors\n",
    "    next_states = torch.tensor([transition.next_state for transition in batch], dtype=torch.float32)\n",
    "    # Extract the batch of terminated flags as bool tensors\n",
    "    terminated = torch.tensor([transition.terminated for transition in batch], dtype=torch.bool)\n",
    "\n",
    "    # First we update the value network\n",
    "    with torch.no_grad():\n",
    "        # Compute the actions taken by the policy network for the next states\n",
    "        next_actions = \n",
    "        # Compute the next step values using the target network\n",
    "        next_step_values = \n",
    "        # Zero out the max-next-values for the terminal states\n",
    "        next_step_values[terminated] = 0\n",
    "        # Compute the target values\n",
    "        target_values = \n",
    "        \n",
    "    # Compute the Q values for the state-action pairs\n",
    "    q_values = \n",
    "    # Compute the loss using the mean squared error\n",
    "    loss = \n",
    "\n",
    "    # Zero the gradients using the optimiser\n",
    "    \n",
    "    # Compute the gradients of the loss through backpropagation\n",
    "    \n",
    "    # Update the weights of the value network using the gradients\n",
    "    \n",
    "\n",
    "    # Next we update the policy network \n",
    "    values = \n",
    "    # Compute the objective function \n",
    "    objective = values.mean()\n",
    "    # Zero the gradients using the optimiser\n",
    "    \n",
    "    # Compute the gradients of the objective function through backpropagation\n",
    "    \n",
    "    # Update the weights of the policy network using the gradients\n",
    "    \n",
    "    "
   ]
  },
  {
   "cell_type": "markdown",
   "metadata": {},
   "source": [
    "## The training loop for the agent\n",
    "We now put everything together into a training loop for the DQN agent. This loop will:\n",
    "1. Interact with the environment for a number of time steps\n",
    "2. Update the weights of the value network\n",
    "3. Synchronize the target network with the value network at regular intervals"
   ]
  },
  {
   "cell_type": "code",
   "execution_count": 13,
   "metadata": {},
   "outputs": [],
   "source": [
    "# Define the train_loop method\n",
    "def train_loop(agent, env, interactions_per_update, update_steps):\n",
    "    # Initialise the environment\n",
    "    current_state, info = env.reset()\n",
    "\n",
    "    # Gather initial interactions for the experience replay buffer\n",
    "    reward_list, current_state = interact(agent, env, 10000, current_state)\n",
    "    \n",
    "    # Loop over the update_steps\n",
    "    for step in tqdm(range(update_steps)):\n",
    "        # Interact with the environment\n",
    "        new_rewards, current_state = interact(agent, env, interactions_per_update, current_state)\n",
    "        \n",
    "        # Append the new rewards to the reward list\n",
    "        reward_list += new_rewards\n",
    "\n",
    "        # Update the weights\n",
    "        update_weights(agent)\n",
    "\n",
    "        # Update the target networks\n",
    "        agent.update_targets()\n",
    "    return reward_list"
   ]
  },
  {
   "cell_type": "markdown",
   "metadata": {},
   "source": [
    "## Some helper functions\n",
    "We define some helper functions to:\n",
    "1. Evaluate the agent's performance\n",
    "2. Visualise the agent's performance\n",
    "3. Plot the (smoothed) losses during training"
   ]
  },
  {
   "cell_type": "code",
   "execution_count": 14,
   "metadata": {},
   "outputs": [],
   "source": [
    "# Define the evaluate function\n",
    "def evaluate(agent, env, n_episodes):\n",
    "    # Initialise the list of rewards\n",
    "    rewards = []\n",
    "    \n",
    "    # Loop over the episodes\n",
    "    for episode in tqdm(range(n_episodes)):\n",
    "        # Reset the environment\n",
    "        current_state, info = env.reset()\n",
    "        # Initialise the episode reward\n",
    "        episode_reward = 0\n",
    "        \n",
    "        # Loop over the steps\n",
    "        with torch.no_grad():\n",
    "            while True:\n",
    "                # Choose the action according to the policy network\n",
    "                action = agent.policy(torch.tensor(current_state, dtype=torch.float32))\n",
    "                # Take the action\n",
    "                next_state, reward, terminated, truncated, info = env.step(action)\n",
    "                # Update the state and reward\n",
    "                current_state = next_state\n",
    "                episode_reward += reward\n",
    "                # Break if the episode has terminated\n",
    "                if terminated or truncated:\n",
    "                    break\n",
    "        \n",
    "        # Append the episode reward to the list of rewards\n",
    "        rewards.append(episode_reward)\n",
    "    # Return the mean of the rewards\n",
    "    return np.mean(rewards)"
   ]
  },
  {
   "cell_type": "code",
   "execution_count": 15,
   "metadata": {},
   "outputs": [],
   "source": [
    "# Define the visualise function\n",
    "# This displays the agent's behaviour in the environment for 500 steps.  \n",
    "def visualise(agent, env, n_steps):\n",
    "    # Reset the environment\n",
    "    current_state, info = env.reset()\n",
    "\n",
    "    # Initialise the list of frames   \n",
    "    frames = []\n",
    "\n",
    "    with torch.no_grad():\n",
    "        for _ in range(n_steps):\n",
    "            # Render the environment and store the frame\n",
    "            frame = env.render()\n",
    "            frames.append(frame)\n",
    "\n",
    "            action = agent.policy(torch.tensor(current_state, dtype=torch.float32)).detach().numpy()\n",
    "            next_state, reward, terminated, truncated, info = env.step(action)\n",
    "            current_state = next_state\n",
    "            if terminated or truncated:\n",
    "                break\n",
    "\n",
    "    # Display the movie\n",
    "    for frame in frames:\n",
    "        clear_output(wait=True)\n",
    "        plt.imshow(frame)\n",
    "        plt.show()\n",
    "        sleep(0.003)"
   ]
  },
  {
   "cell_type": "code",
   "execution_count": 31,
   "metadata": {},
   "outputs": [],
   "source": [
    "# Plot a smoothed version of the rewards\n",
    "def plot_rewards(rewards):\n",
    "    # Convert the rewards to a numpy array\n",
    "    rewards = np.array(rewards)\n",
    "    # Create a smoothed version of the rewards\n",
    "    smoothed_rewards = np.convolve(rewards, np.ones(1000)/1000, mode='valid') \n",
    "    plt.plot(range(len(smoothed_rewards)), smoothed_rewards)\n",
    "    plt.xlabel('Interaction step')\n",
    "    plt.ylabel('Average reward')\n",
    "    plt.xlim(0, len(smoothed_rewards))\n",
    "    plt.ylim(min(smoothed_rewards), 1.1*max(smoothed_rewards))\n",
    "    plt.show()"
   ]
  },
  {
   "cell_type": "markdown",
   "metadata": {},
   "source": [
    "# Let's gooooo\n",
    "\n",
    "We will now train our network using the DDPG algorithm and visualise the agent's performance. Have fun!"
   ]
  },
  {
   "cell_type": "code",
   "execution_count": 27,
   "metadata": {},
   "outputs": [],
   "source": [
    "# Create the pendulum environment\n",
    "env = gym.make('Pendulum-v1', render_mode='rgb_array')\n",
    "# Reset the environment\n",
    "env.reset()\n",
    "# Create the agent\n",
    "agent = DDPG_agent(env)"
   ]
  },
  {
   "cell_type": "code",
   "execution_count": 28,
   "metadata": {},
   "outputs": [
    {
     "data": {
      "application/vnd.jupyter.widget-view+json": {
       "model_id": "4cc4dda491494407b34eb7aceb8e8459",
       "version_major": 2,
       "version_minor": 0
      },
      "text/plain": [
       "  0%|          | 0/50 [00:00<?, ?it/s]"
      ]
     },
     "metadata": {},
     "output_type": "display_data"
    },
    {
     "name": "stdout",
     "output_type": "stream",
     "text": [
      "Performance before training: -1339.8413\n"
     ]
    }
   ],
   "source": [
    "# Evaluate the agent's performance before training\n",
    "print('Performance before training:', evaluate(agent, env, 100))"
   ]
  },
  {
   "cell_type": "code",
   "execution_count": 20,
   "metadata": {},
   "outputs": [
    {
     "data": {
      "image/png": "[encoded data removed]",
      "text/plain": [
       "<Figure size 640x480 with 1 Axes>"
      ]
     },
     "metadata": {},
     "output_type": "display_data"
    }
   ],
   "source": [
    "# Visualise the agent's behaviour before training\n",
    "visualise(agent, env, 200)"
   ]
  },
  {
   "cell_type": "code",
   "execution_count": 29,
   "metadata": {},
   "outputs": [
    {
     "data": {
      "application/vnd.jupyter.widget-view+json": {
       "model_id": "e58eeb8307c6482298855424b307d808",
       "version_major": 2,
       "version_minor": 0
      },
      "text/plain": [
       "  0%|          | 0/6000 [00:00<?, ?it/s]"
      ]
     },
     "metadata": {},
     "output_type": "display_data"
    }
   ],
   "source": [
    "# Train the agent, saving the losses\n",
    "rewards_list = train_loop(agent, env, interactions_per_update=15, update_steps=7500)"
   ]
  },
  {
   "cell_type": "code",
   "execution_count": 32,
   "metadata": {},
   "outputs": [
    {
     "data": {
      "image/png": "[encoded data removed]",
      "text/plain": [
       "<Figure size 640x480 with 1 Axes>"
      ]
     },
     "metadata": {},
     "output_type": "display_data"
    }
   ],
   "source": [
    "# Plot the rewards\n",
    "plot_rewards(rewards_list)"
   ]
  },
  {
   "cell_type": "code",
   "execution_count": 23,
   "metadata": {},
   "outputs": [
    {
     "data": {
      "application/vnd.jupyter.widget-view+json": {
       "model_id": "8fef9836b1da4c669856b16cd81ab485",
       "version_major": 2,
       "version_minor": 0
      },
      "text/plain": [
       "  0%|          | 0/50 [00:00<?, ?it/s]"
      ]
     },
     "metadata": {},
     "output_type": "display_data"
    },
    {
     "name": "stdout",
     "output_type": "stream",
     "text": [
      "Performance after training: -134.50952\n"
     ]
    }
   ],
   "source": [
    "# Evaluate the agent's performance after training\n",
    "print('Performance after training:', evaluate(agent, env, 100))"
   ]
  },
  {
   "cell_type": "code",
   "execution_count": 33,
   "metadata": {},
   "outputs": [
    {
     "data": {
      "image/png": "[encoded data removed]",
      "text/plain": [
       "<Figure size 640x480 with 1 Axes>"
      ]
     },
     "metadata": {},
     "output_type": "display_data"
    }
   ],
   "source": [
    "# Visualise the agent's behaviour after training\n",
    "visualise(agent, env, 200)"
   ]
  }
 ],
 "metadata": {
  "kernelspec": {
   "display_name": "comp_neuro",
   "language": "python",
   "name": "python3"
  },
  "language_info": {
   "codemirror_mode": {
    "name": "ipython",
    "version": 3
   },
   "file_extension": ".py",
   "mimetype": "text/x-python",
   "name": "python",
   "nbconvert_exporter": "python",
   "pygments_lexer": "ipython3",
   "version": "3.9.18"
  }
 },
 "nbformat": 4,
 "nbformat_minor": 2
}
